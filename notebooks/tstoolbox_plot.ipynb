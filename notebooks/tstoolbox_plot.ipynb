{
 "cells": [
  {
   "cell_type": "code",
   "execution_count": 34,
   "metadata": {
    "collapsed": false
   },
   "outputs": [
    {
     "name": "stdout",
     "output_type": "stream",
     "text": [
      "/home/tim/python_ves/python-3.6.0/lib/python3.6/site-packages/h5py/__init__.py:36: FutureWarning: Conversion of the second argument of issubdtype from `float` to `np.floating` is deprecated. In future, it will be treated as `np.float64 == np.dtype(float).type`.\n",
      "  from ._conv import register_converters as _register_converters\n",
      "/home/tim/python_ves/python-3.6.0/lib/python3.6/site-packages/h5py/__init__.py:36: FutureWarning: Conversion of the second argument of issubdtype from `float` to `np.floating` is deprecated. In future, it will be treated as `np.float64 == np.dtype(float).type`.\n",
      "  from ._conv import register_converters as _register_converters\n"
     ]
    }
   ],
   "source": [
    "tsgettoolbox nwis_dv --sites 02233484 --startDT 2000-01-01 > 02233484.csv\n",
    "tsgettoolbox nwis_dv --sites 02233500 --startDT 2000-01-01 > 02233500.csv"
   ]
  },
  {
   "cell_type": "code",
   "execution_count": 36,
   "metadata": {
    "collapsed": false,
    "scrolled": true
   },
   "outputs": [
    {
     "name": "stdout",
     "output_type": "stream",
     "text": [
      "==> 02233484.csv <==\n",
      "Datetime,USGS_02233484_22314_00060_00003:ft3/s,USGS_02233484_22315_00065_00003:ft,USGS_02233484_22316_63160_00003:ft\n",
      "2001-12-04,111,11.73,\n",
      "2001-12-05,109,11.69,\n",
      "2001-12-06,106,11.65,\n",
      "2001-12-07,105,11.64,\n",
      "2001-12-08,106,11.65,\n",
      "2001-12-09,104,11.63,\n",
      "2001-12-10,105,11.65,\n",
      "2001-12-11,108,11.69,\n",
      "2001-12-12,108,11.69,\n",
      "\n",
      "==> 02233500.csv <==\n",
      "Datetime,USGS_02233500_22317_00060_00003:ft3/s,USGS_02233500_22318_00065_00003:ft,USGS_02233500_22319_63160_00003:ft\n",
      "2000-01-01,179,3.54,\n",
      "2000-01-02,172,3.44,\n",
      "2000-01-03,164,3.35,\n",
      "2000-01-04,159,,\n",
      "2000-01-05,152,,\n",
      "2000-01-06,148,,\n",
      "2000-01-07,143,3.04,\n",
      "2000-01-08,140,2.98,\n",
      "2000-01-09,139,2.94,\n"
     ]
    }
   ],
   "source": [
    "head 02233484.csv 02233500.csv"
   ]
  },
  {
   "cell_type": "code",
   "execution_count": 37,
   "metadata": {
    "collapsed": true
   },
   "outputs": [],
   "source": [
    "tstoolbox read 02233484.csv,02233500.csv | tstoolbox plot --ofilename econ.png --columns USGS_02233484_22314_00060_00003:ft3/s,USGS_02233500_22317_00060_00003:ft3/s --ytitle Flow "
   ]
  },
  {
   "cell_type": "markdown",
   "metadata": {},
   "source": [
    "![econ.png](econ.png)"
   ]
  },
  {
   "cell_type": "code",
   "execution_count": 50,
   "metadata": {
    "collapsed": true
   },
   "outputs": [],
   "source": [
    "tstoolbox read 02233484.csv,02233500.csv | tstoolbox plot --type weibull_xaxis --ofilename weibull.png --columns USGS_02233484_22314_00060_00003:ft3/s,USGS_02233500_22317_00060_00003:ft3/s --ytitle Flow "
   ]
  },
  {
   "cell_type": "markdown",
   "metadata": {},
   "source": [
    "![weibull.png](weibull.png)"
   ]
  },
  {
   "cell_type": "code",
   "execution_count": 45,
   "metadata": {
    "collapsed": false
   },
   "outputs": [],
   "source": [
    "tstoolbox read 02233484.csv,02233500.csv | tstoolbox plot --start_date 2009-01-01 --end_date 2010-01-01 --ofilename econ_clip.png --columns USGS_02233484_22314_00060_00003:ft3/s,USGS_02233500_22317_00060_00003:ft3/s --ytitle Flow "
   ]
  },
  {
   "cell_type": "markdown",
   "metadata": {},
   "source": [
    "![econ_clip.png](econ_clip.png)"
   ]
  },
  {
   "cell_type": "code",
   "execution_count": null,
   "metadata": {
    "collapsed": true
   },
   "outputs": [],
   "source": [
    "tstoolbox read 02233484.csv,02233500.csv | tstoolbox plot --type xy --ofilename econ_xy.png --columns 2,1,5,4 --linestyle ' ' --markerstyle auto"
   ]
  },
  {
   "cell_type": "markdown",
   "metadata": {},
   "source": [
    "![econ_xy.png](econ_xy.png)"
   ]
  },
  {
   "cell_type": "code",
   "execution_count": 48,
   "metadata": {
    "collapsed": false
   },
   "outputs": [],
   "source": [
    "tstoolbox read 02233484.csv,02233500.csv | tstoolbox plot --type boxplot --ofilename boxplot.png --columns 1,4"
   ]
  },
  {
   "cell_type": "markdown",
   "metadata": {},
   "source": [
    "![boxplot.png](boxplot.png)"
   ]
  },
  {
   "cell_type": "code",
   "execution_count": 41,
   "metadata": {
    "collapsed": true
   },
   "outputs": [],
   "source": [
    "tstoolbox plot --type heatmap --columns 1 --ofilename heatmap.png < 02233484.csv"
   ]
  },
  {
   "cell_type": "markdown",
   "metadata": {},
   "source": [
    "![heatmap.png](heatmap.png)"
   ]
  },
  {
   "cell_type": "code",
   "execution_count": 43,
   "metadata": {
    "collapsed": true
   },
   "outputs": [],
   "source": [
    "tstoolbox plot --type kde_time --columns 1 --ofilename kde_time.png < 02233484.csv"
   ]
  },
  {
   "cell_type": "markdown",
   "metadata": {},
   "source": [
    "![ked_time](kde_time.png)"
   ]
  },
  {
   "cell_type": "code",
   "execution_count": null,
   "metadata": {
    "collapsed": true
   },
   "outputs": [],
   "source": []
  }
 ],
 "metadata": {
  "kernelspec": {
   "display_name": "Bash",
   "language": "bash",
   "name": "bash"
  },
  "language_info": {
   "codemirror_mode": "shell",
   "file_extension": ".sh",
   "mimetype": "text/x-sh",
   "name": "bash"
  }
 },
 "nbformat": 4,
 "nbformat_minor": 2
}
